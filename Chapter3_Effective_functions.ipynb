{
 "cells": [
  {
   "cell_type": "markdown",
   "id": "05ce3230",
   "metadata": {},
   "source": [
    "# Chapter 3 - Effective Functions"
   ]
  },
  {
   "cell_type": "markdown",
   "id": "41d65ed7",
   "metadata": {},
   "source": [
    "## 3.1 Python's Functions are First-Class"
   ]
  },
  {
   "cell_type": "markdown",
   "id": "c4c87511",
   "metadata": {},
   "source": [
    "* **Everything in Python is an object**, including functions. You can\n",
    "assign them to variables, store them in data structures, and pass\n",
    "or return them to and from other functions (first-class functions.)\n",
    "* First-class functions allow you to abstract away and pass\n",
    "around behavior in your programs.\n",
    "* Functions can be nested and they can capture and carry some\n",
    "of the parent function’s state with them. Functions that do this\n",
    "are called closures.\n",
    "* **Objects can be made callable**. In many cases this allows you to\n",
    "treat them like functions.\n"
   ]
  },
  {
   "cell_type": "code",
   "execution_count": 75,
   "id": "73f6621c",
   "metadata": {},
   "outputs": [],
   "source": [
    "# function for use in this section\n",
    "def yell(text):\n",
    "    return text.upper()+ '!'"
   ]
  },
  {
   "cell_type": "markdown",
   "id": "b17e3ae6",
   "metadata": {},
   "source": [
    "### functions and references"
   ]
  },
  {
   "cell_type": "code",
   "execution_count": 76,
   "id": "b2073446",
   "metadata": {},
   "outputs": [],
   "source": [
    "# We can make a reference that copies the function object\n",
    "bark = yell"
   ]
  },
  {
   "cell_type": "code",
   "execution_count": 77,
   "id": "882ef7ff",
   "metadata": {},
   "outputs": [
    {
     "data": {
      "text/plain": [
       "'WOOF!'"
      ]
     },
     "execution_count": 77,
     "metadata": {},
     "output_type": "execute_result"
    }
   ],
   "source": [
    "bark('woof')"
   ]
  },
  {
   "cell_type": "code",
   "execution_count": 78,
   "id": "d95ed82c",
   "metadata": {},
   "outputs": [],
   "source": [
    "del yell"
   ]
  },
  {
   "cell_type": "code",
   "execution_count": 79,
   "id": "6f73fe5e",
   "metadata": {},
   "outputs": [
    {
     "ename": "NameError",
     "evalue": "name 'yell' is not defined",
     "output_type": "error",
     "traceback": [
      "\u001b[1;31m---------------------------------------------------------------------------\u001b[0m",
      "\u001b[1;31mNameError\u001b[0m                                 Traceback (most recent call last)",
      "\u001b[1;32m<ipython-input-79-43e68f5b93d9>\u001b[0m in \u001b[0;36m<module>\u001b[1;34m\u001b[0m\n\u001b[1;32m----> 1\u001b[1;33m \u001b[0myell\u001b[0m\u001b[1;33m(\u001b[0m\u001b[1;34m'hello'\u001b[0m\u001b[1;33m)\u001b[0m\u001b[1;33m\u001b[0m\u001b[1;33m\u001b[0m\u001b[0m\n\u001b[0m",
      "\u001b[1;31mNameError\u001b[0m: name 'yell' is not defined"
     ]
    }
   ],
   "source": [
    "yell('hello')"
   ]
  },
  {
   "cell_type": "code",
   "execution_count": 80,
   "id": "4c57d366",
   "metadata": {},
   "outputs": [
    {
     "data": {
      "text/plain": [
       "'HEY!'"
      ]
     },
     "execution_count": 80,
     "metadata": {},
     "output_type": "execute_result"
    }
   ],
   "source": [
    "bark('hey')"
   ]
  },
  {
   "cell_type": "code",
   "execution_count": 81,
   "id": "7c84fc80",
   "metadata": {},
   "outputs": [
    {
     "data": {
      "text/plain": [
       "'yell'"
      ]
     },
     "execution_count": 81,
     "metadata": {},
     "output_type": "execute_result"
    }
   ],
   "source": [
    "# string identifier at creation time\n",
    "bark.__name__"
   ]
  },
  {
   "cell_type": "markdown",
   "id": "9f7d62a5",
   "metadata": {},
   "source": [
    "### functions can be stored in data structures"
   ]
  },
  {
   "cell_type": "code",
   "execution_count": 82,
   "id": "0a6be1c8",
   "metadata": {},
   "outputs": [
    {
     "data": {
      "text/plain": [
       "[<function __main__.yell(text)>,\n",
       " <method 'lower' of 'str' objects>,\n",
       " <method 'capitalize' of 'str' objects>]"
      ]
     },
     "execution_count": 82,
     "metadata": {},
     "output_type": "execute_result"
    }
   ],
   "source": [
    "funcs = [bark, str.lower, str.capitalize]\n",
    "\n",
    "funcs"
   ]
  },
  {
   "cell_type": "code",
   "execution_count": 83,
   "id": "fb6f1e6b",
   "metadata": {},
   "outputs": [
    {
     "name": "stdout",
     "output_type": "stream",
     "text": [
      "<function yell at 0x00000174EEA5BA60> HEY THERE!\n",
      "<method 'lower' of 'str' objects> hey there\n",
      "<method 'capitalize' of 'str' objects> Hey there\n"
     ]
    }
   ],
   "source": [
    "# accessing functions inside data structures\n",
    "for f in funcs:\n",
    "    print(f, f('hey there'))"
   ]
  },
  {
   "cell_type": "code",
   "execution_count": 84,
   "id": "01c40faf",
   "metadata": {},
   "outputs": [
    {
     "data": {
      "text/plain": [
       "'YO!'"
      ]
     },
     "execution_count": 84,
     "metadata": {},
     "output_type": "execute_result"
    }
   ],
   "source": [
    "funcs[0]('yo')"
   ]
  },
  {
   "cell_type": "markdown",
   "id": "b50bec6e",
   "metadata": {},
   "source": [
    "### functions can be passed to other functions"
   ]
  },
  {
   "cell_type": "markdown",
   "id": "53cb27eb",
   "metadata": {},
   "source": [
    "* Functions that accept other functions as arguments are also called higher-order functions\n",
    "* the ```map``` function is an example of a higher order function"
   ]
  },
  {
   "cell_type": "code",
   "execution_count": 85,
   "id": "298ccb47",
   "metadata": {},
   "outputs": [
    {
     "data": {
      "text/plain": [
       "['HELLO!', 'HEY!', 'HI!']"
      ]
     },
     "execution_count": 85,
     "metadata": {},
     "output_type": "execute_result"
    }
   ],
   "source": [
    "list(map(bark,['hello', 'hey','hi']))"
   ]
  },
  {
   "cell_type": "code",
   "execution_count": 86,
   "id": "162d60fa",
   "metadata": {},
   "outputs": [],
   "source": [
    "def greet(func):\n",
    "    greeting = func('Hi, I am a Python program')\n",
    "    print(greeting)"
   ]
  },
  {
   "cell_type": "code",
   "execution_count": 87,
   "id": "ef1543b9",
   "metadata": {},
   "outputs": [
    {
     "name": "stdout",
     "output_type": "stream",
     "text": [
      "HI, I AM A PYTHON PROGRAM!\n"
     ]
    }
   ],
   "source": [
    "# pass bark to greet function\n",
    "greet(bark)"
   ]
  },
  {
   "cell_type": "code",
   "execution_count": 88,
   "id": "aed2d633",
   "metadata": {},
   "outputs": [],
   "source": [
    "def whisper(text):\n",
    "    return text.lower() + '...'"
   ]
  },
  {
   "cell_type": "code",
   "execution_count": 89,
   "id": "e7e55ec1",
   "metadata": {},
   "outputs": [
    {
     "name": "stdout",
     "output_type": "stream",
     "text": [
      "hi, i am a python program...\n"
     ]
    }
   ],
   "source": [
    "greet(whisper)"
   ]
  },
  {
   "cell_type": "markdown",
   "id": "3f286ce6",
   "metadata": {},
   "source": [
    "### functions can be nested\n",
    "\n",
    "* Notice that ```whisper``` does not exist outside ```speak```"
   ]
  },
  {
   "cell_type": "code",
   "execution_count": 90,
   "id": "da73c692",
   "metadata": {},
   "outputs": [],
   "source": [
    "def speak(text):\n",
    "    def whisper(t):\n",
    "        return t.lower()+'...'\n",
    "    return whisper(text)"
   ]
  },
  {
   "cell_type": "code",
   "execution_count": 91,
   "id": "4a6b7cd6",
   "metadata": {},
   "outputs": [
    {
     "data": {
      "text/plain": [
       "'hello, world...'"
      ]
     },
     "execution_count": 91,
     "metadata": {},
     "output_type": "execute_result"
    }
   ],
   "source": [
    "speak('Hello, World')"
   ]
  },
  {
   "cell_type": "markdown",
   "id": "991d29be",
   "metadata": {},
   "source": [
    "### functions can return behaviours!"
   ]
  },
  {
   "cell_type": "code",
   "execution_count": 92,
   "id": "27859f09",
   "metadata": {},
   "outputs": [],
   "source": [
    "def get_speak_func(volume):\n",
    "    def whisper(text):\n",
    "        return text.lower() + '...'\n",
    "    def yell(text):\n",
    "        return text.upper() + '!'\n",
    "    \n",
    "    if volume > 0.5:\n",
    "        return yell\n",
    "    else:\n",
    "        return whisper"
   ]
  },
  {
   "cell_type": "code",
   "execution_count": 93,
   "id": "77cd34f7",
   "metadata": {},
   "outputs": [],
   "source": [
    "speak_func = get_speak_func(0.7)"
   ]
  },
  {
   "cell_type": "code",
   "execution_count": 94,
   "id": "88767695",
   "metadata": {},
   "outputs": [
    {
     "data": {
      "text/plain": [
       "'HELLO!'"
      ]
     },
     "execution_count": 94,
     "metadata": {},
     "output_type": "execute_result"
    }
   ],
   "source": [
    "speak_func('Hello')"
   ]
  },
  {
   "cell_type": "code",
   "execution_count": 95,
   "id": "b21930ec",
   "metadata": {},
   "outputs": [
    {
     "data": {
      "text/plain": [
       "'hello...'"
      ]
     },
     "execution_count": 95,
     "metadata": {},
     "output_type": "execute_result"
    }
   ],
   "source": [
    "get_speak_func(0.2)('Hello')"
   ]
  },
  {
   "cell_type": "markdown",
   "id": "52dc85cd",
   "metadata": {},
   "source": [
    "### functions can capture local state"
   ]
  },
  {
   "cell_type": "markdown",
   "id": "f9d98a32",
   "metadata": {},
   "source": [
    "*  Inner functions can capture and carry some of the parent function's state\n",
    "* This mean functions can pre-configure returned behaviours"
   ]
  },
  {
   "cell_type": "markdown",
   "id": "09691899",
   "metadata": {},
   "source": [
    "### lexical closures"
   ]
  },
  {
   "cell_type": "code",
   "execution_count": 96,
   "id": "853f262b",
   "metadata": {},
   "outputs": [],
   "source": [
    "# notice the inner functions don't have any inputs\n",
    "# they look in the parents scope for the variables\n",
    "def get_speak_func(text, volume):\n",
    "    def whisper():\n",
    "        return text.lower() + '...'\n",
    "    def yell():\n",
    "        return text.upper() + '!'\n",
    "    if volume > 0.5:\n",
    "        return yell\n",
    "    else:\n",
    "        return whisper"
   ]
  },
  {
   "cell_type": "code",
   "execution_count": 97,
   "id": "a908e325",
   "metadata": {},
   "outputs": [
    {
     "data": {
      "text/plain": [
       "'HELLO WORLD!'"
      ]
     },
     "execution_count": 97,
     "metadata": {},
     "output_type": "execute_result"
    }
   ],
   "source": [
    "get_speak_func('Hello world', 0.7)()"
   ]
  },
  {
   "cell_type": "markdown",
   "id": "2ab3a6ab",
   "metadata": {},
   "source": [
    "#### preconfigured behaviour "
   ]
  },
  {
   "cell_type": "code",
   "execution_count": 98,
   "id": "b60d83d0",
   "metadata": {},
   "outputs": [],
   "source": [
    "def make_adder(n):\n",
    "    def add(x):\n",
    "        # nested function captures the\n",
    "        # state of the parent variable n         \n",
    "        return x + n\n",
    "    return add"
   ]
  },
  {
   "cell_type": "code",
   "execution_count": 99,
   "id": "2e20f8ce",
   "metadata": {},
   "outputs": [],
   "source": [
    "plus_3 = make_adder(3)"
   ]
  },
  {
   "cell_type": "code",
   "execution_count": 100,
   "id": "c214e8d0",
   "metadata": {},
   "outputs": [
    {
     "data": {
      "text/plain": [
       "7"
      ]
     },
     "execution_count": 100,
     "metadata": {},
     "output_type": "execute_result"
    }
   ],
   "source": [
    "plus_3(4)"
   ]
  },
  {
   "cell_type": "code",
   "execution_count": 101,
   "id": "0f90626c",
   "metadata": {},
   "outputs": [
    {
     "data": {
      "text/plain": [
       "9"
      ]
     },
     "execution_count": 101,
     "metadata": {},
     "output_type": "execute_result"
    }
   ],
   "source": [
    "plus_5 = make_adder(5)\n",
    "plus_5(4)"
   ]
  },
  {
   "cell_type": "markdown",
   "id": "016f37c5",
   "metadata": {},
   "source": [
    "### Objects can behave like functions"
   ]
  },
  {
   "cell_type": "markdown",
   "id": "b6497b54",
   "metadata": {},
   "source": [
    "* All functions are objects in Python\n",
    "* The reverse is not true!\n",
    "* However, __objects can be made callable__ which allows you to treat them like functions in many cases\n",
    "\n",
    "We do this through the use of the ```__call__``` dunder method"
   ]
  },
  {
   "cell_type": "code",
   "execution_count": 103,
   "id": "c3dd9332",
   "metadata": {},
   "outputs": [
    {
     "data": {
      "text/plain": [
       "7"
      ]
     },
     "execution_count": 103,
     "metadata": {},
     "output_type": "execute_result"
    }
   ],
   "source": [
    "# define a class Adder and use the __call__ dunder to make it callable\n",
    "# this is a good illustration where lexical closure is more efficient\n",
    "\n",
    "class Adder:\n",
    "    def __init__(self,n):\n",
    "        self.n = n\n",
    "    \n",
    "    # the dunder method allows us to call this object\n",
    "    def __call__(self,x):\n",
    "        return self.n + x\n",
    "    \n",
    "# instantiate the class Adder\n",
    "plus_3 = Adder(3)\n",
    "# call the object like a function\n",
    "plus_3(4)"
   ]
  },
  {
   "cell_type": "markdown",
   "id": "2da9e07e",
   "metadata": {},
   "source": [
    "* Note, not all objects will be callable, so we can check with the ```callable``` check"
   ]
  },
  {
   "cell_type": "code",
   "execution_count": 104,
   "id": "73ded128",
   "metadata": {},
   "outputs": [
    {
     "data": {
      "text/plain": [
       "True"
      ]
     },
     "execution_count": 104,
     "metadata": {},
     "output_type": "execute_result"
    }
   ],
   "source": [
    "callable(plus_3)"
   ]
  },
  {
   "cell_type": "code",
   "execution_count": 105,
   "id": "1837138f",
   "metadata": {},
   "outputs": [
    {
     "data": {
      "text/plain": [
       "False"
      ]
     },
     "execution_count": 105,
     "metadata": {},
     "output_type": "execute_result"
    }
   ],
   "source": [
    "callable('string')"
   ]
  },
  {
   "cell_type": "code",
   "execution_count": 106,
   "id": "c80d901e",
   "metadata": {},
   "outputs": [
    {
     "data": {
      "text/plain": [
       "True"
      ]
     },
     "execution_count": 106,
     "metadata": {},
     "output_type": "execute_result"
    }
   ],
   "source": [
    "callable(bark)"
   ]
  },
  {
   "cell_type": "markdown",
   "id": "914d1287",
   "metadata": {},
   "source": [
    "___\n",
    "## 3.2 Lambdas are Single-Expression Functions"
   ]
  },
  {
   "cell_type": "markdown",
   "id": "cc236c8a",
   "metadata": {},
   "source": [
    "* Lambda functions are **single-expression functions** that are not\n",
    "necessarily bound to a name (anonymous).\n",
    "* Lambda functions can’t use regular Python statements and **always include an implicit return statement**.\n",
    "* Always ask yourself: Would using a regular (named) function\n",
    "or a list comprehension offer more clarity?\n",
    "* **Saving a few keystrokes won’t matter in the long run, but your colleagues (and your future self) will appreciate clean and readable code\n",
    "more than terse wizardry.**\n"
   ]
  },
  {
   "cell_type": "code",
   "execution_count": 112,
   "id": "eda94d5e",
   "metadata": {},
   "outputs": [
    {
     "data": {
      "text/plain": [
       "8"
      ]
     },
     "execution_count": 112,
     "metadata": {},
     "output_type": "execute_result"
    }
   ],
   "source": [
    "add = lambda x, y: x + y\n",
    "add(5,3)"
   ]
  },
  {
   "cell_type": "markdown",
   "id": "d58333d0",
   "metadata": {},
   "source": [
    "* this is equivalent to the more verbose..."
   ]
  },
  {
   "cell_type": "code",
   "execution_count": 113,
   "id": "1387f100",
   "metadata": {},
   "outputs": [],
   "source": [
    "def add(x,y):\n",
    "    return x + y"
   ]
  },
  {
   "cell_type": "code",
   "execution_count": 114,
   "id": "81f272b4",
   "metadata": {},
   "outputs": [
    {
     "data": {
      "text/plain": [
       "8"
      ]
     },
     "execution_count": 114,
     "metadata": {},
     "output_type": "execute_result"
    }
   ],
   "source": [
    "add(5,3)"
   ]
  },
  {
   "cell_type": "markdown",
   "id": "b924a71d",
   "metadata": {},
   "source": [
    "### the power of lambda functions - function expressions"
   ]
  },
  {
   "cell_type": "code",
   "execution_count": 115,
   "id": "a486b0d8",
   "metadata": {},
   "outputs": [
    {
     "data": {
      "text/plain": [
       "8"
      ]
     },
     "execution_count": 115,
     "metadata": {},
     "output_type": "execute_result"
    }
   ],
   "source": [
    "# function expressions - inline function definitions\n",
    "\n",
    "(lambda x, y: x + y)(5,3)"
   ]
  },
  {
   "cell_type": "markdown",
   "id": "848132f0",
   "metadata": {},
   "source": [
    "### lambdas you can use"
   ]
  },
  {
   "cell_type": "markdown",
   "id": "fcfebb72",
   "metadata": {},
   "source": [
    "#### sorting keys"
   ]
  },
  {
   "cell_type": "code",
   "execution_count": 116,
   "id": "c11bbd43",
   "metadata": {},
   "outputs": [
    {
     "data": {
      "text/plain": [
       "[(4, 'a'), (2, 'b'), (3, 'c'), (1, 'd')]"
      ]
     },
     "execution_count": 116,
     "metadata": {},
     "output_type": "execute_result"
    }
   ],
   "source": [
    "tuples = [(1, 'd'), (2, 'b'), (4, 'a'), (3, 'c')]\n",
    "sorted(tuples, key=lambda x: x[1])"
   ]
  },
  {
   "cell_type": "code",
   "execution_count": 117,
   "id": "c469d48e",
   "metadata": {},
   "outputs": [
    {
     "data": {
      "text/plain": [
       "[0, -1, 1, -2, 2, -3, 3, -4, 4, -5, 5]"
      ]
     },
     "execution_count": 117,
     "metadata": {},
     "output_type": "execute_result"
    }
   ],
   "source": [
    "sorted(range(-5, 6), key=lambda x: x * x)"
   ]
  },
  {
   "cell_type": "markdown",
   "id": "5580e6bc",
   "metadata": {},
   "source": [
    "#### they work as lexical closures"
   ]
  },
  {
   "cell_type": "code",
   "execution_count": 118,
   "id": "c25ad010",
   "metadata": {},
   "outputs": [],
   "source": [
    "def make_adder(n):\n",
    "    # the state of the parent function (n) is captured by the lambda function     \n",
    "    return lambda x: x + n \n",
    "\n",
    "plus_3 = make_adder(3)\n",
    "plus_5 = make_adder(5)"
   ]
  },
  {
   "cell_type": "code",
   "execution_count": 119,
   "id": "78f458eb",
   "metadata": {},
   "outputs": [
    {
     "data": {
      "text/plain": [
       "7"
      ]
     },
     "execution_count": 119,
     "metadata": {},
     "output_type": "execute_result"
    }
   ],
   "source": [
    "plus_3(4)"
   ]
  },
  {
   "cell_type": "code",
   "execution_count": 120,
   "id": "6d554270",
   "metadata": {},
   "outputs": [
    {
     "data": {
      "text/plain": [
       "9"
      ]
     },
     "execution_count": 120,
     "metadata": {},
     "output_type": "execute_result"
    }
   ],
   "source": [
    "plus_5(4)"
   ]
  },
  {
   "cell_type": "markdown",
   "id": "134e5654",
   "metadata": {},
   "source": [
    "### Take care writing lambdas functions because there are some pitfalls"
   ]
  },
  {
   "cell_type": "markdown",
   "id": "7e86f6dd",
   "metadata": {},
   "source": [
    "* Ask yourself does this lambda function make your code maintainable and reusable?"
   ]
  },
  {
   "cell_type": "code",
   "execution_count": 121,
   "id": "0792dfbb",
   "metadata": {},
   "outputs": [
    {
     "name": "stdout",
     "output_type": "stream",
     "text": [
      "Wroom!\n",
      "Boom!\n"
     ]
    }
   ],
   "source": [
    "# harmful\n",
    "# this will be confusing as a way to write class methods\n",
    "class Car:\n",
    "    rev = lambda self: print('Wroom!')\n",
    "    crash = lambda self: print('Boom!')\n",
    "my_car = Car()\n",
    "\n",
    "my_car.rev()\n",
    "my_car.crash()"
   ]
  },
  {
   "cell_type": "code",
   "execution_count": 122,
   "id": "241e0bc4",
   "metadata": {},
   "outputs": [
    {
     "name": "stdout",
     "output_type": "stream",
     "text": [
      "Boom!\n"
     ]
    }
   ],
   "source": [
    "# better\n",
    "class Car:\n",
    "    def rev(self):\n",
    "        print('Wroom!')\n",
    "    def crash(self):\n",
    "        print('Boom!')\n",
    "        \n",
    "my_car = Car()\n",
    "my_car.crash()"
   ]
  },
  {
   "cell_type": "code",
   "execution_count": 123,
   "id": "bca58624",
   "metadata": {},
   "outputs": [
    {
     "data": {
      "text/plain": [
       "[0, 2, 4, 6, 8, 10, 12, 14]"
      ]
     },
     "execution_count": 123,
     "metadata": {},
     "output_type": "execute_result"
    }
   ],
   "source": [
    "# harmful\n",
    "list(filter(lambda x: x % 2 == 0, range(16)))"
   ]
  },
  {
   "cell_type": "code",
   "execution_count": 124,
   "id": "176fa51d",
   "metadata": {},
   "outputs": [
    {
     "data": {
      "text/plain": [
       "[0, 2, 4, 6, 8, 10, 12, 14]"
      ]
     },
     "execution_count": 124,
     "metadata": {},
     "output_type": "execute_result"
    }
   ],
   "source": [
    "# better\n",
    "[x for x in range(16) if x % 2 == 0]"
   ]
  },
  {
   "cell_type": "markdown",
   "id": "0bba445b",
   "metadata": {},
   "source": [
    "___\n",
    "## 3.3 The Power of Decorators"
   ]
  },
  {
   "cell_type": "markdown",
   "id": "7bb348f4",
   "metadata": {},
   "source": [
    "At their core, Python’s **decorators allow you to extend and modify the\n",
    "behavior of a callable** (functions, methods, and classes) **without permanently modifying the callable itself**. \n",
    "\n",
    "**A decorator is a callable that takes a callable as input and\n",
    "returns another callable**\n",
    "\n",
    "\n",
    "### Key summary\n",
    "\n",
    "* Decorators define reusable building blocks you can apply to a\n",
    "callable to modify its behavior without permanently modifying\n",
    "the callable itself. It also let's you call the functions by their original name. \n",
    "* The ```@``` syntax is just a shorthand for calling the decorator on\n",
    "an input function. Multiple decorators on a single function are\n",
    "applied **bottom to top (decorator stacking)**.\n",
    "* As a debugging best practice, use the ```functools.wraps``` helper\n",
    "in your own decorators to **carry over metadata from the undecorated callable to the decorated one**.\n",
    "* Just like any other tool in the software development toolbox,\n",
    "decorators are not a cure-all and they should not be overused.\n",
    "It’s important to balance the need to “get stuff done” with the\n",
    "goal of “not getting tangled up in a horrible, unmaintainable\n",
    "mess of a code base.”\n",
    "They \"decorate\" another function and let you execute code before and after the wrapped function runs. \n",
    "\n",
    "### Uses of decorators\n",
    "\n",
    "* logging\n",
    "* enforcing access control and authentication\n",
    "* instrumentation and timing functions\n",
    "* rate-limiting\n",
    "* caching, and more\n",
    "\n",
    "### Why use decorators? \n",
    "\n",
    "They allow you to define reusable building blocks that can change or extend the behavior of other functions. "
   ]
  },
  {
   "cell_type": "code",
   "execution_count": 186,
   "id": "a7224697",
   "metadata": {},
   "outputs": [],
   "source": [
    "# very simple decorator ie. it does nothing\n",
    "\n",
    "# we take a callable as input\n",
    "def null_decorator(func):\n",
    "    # we need to return a callable \n",
    "    return func\n",
    "\n",
    "def greet():\n",
    "    return 'hello'"
   ]
  },
  {
   "cell_type": "code",
   "execution_count": 187,
   "id": "1bb36973",
   "metadata": {},
   "outputs": [
    {
     "data": {
      "text/plain": [
       "'hello'"
      ]
     },
     "execution_count": 187,
     "metadata": {},
     "output_type": "execute_result"
    }
   ],
   "source": [
    "greet = null_decorator(greet)\n",
    "greet()"
   ]
  },
  {
   "cell_type": "markdown",
   "id": "60ac203d",
   "metadata": {},
   "source": [
    "Instead of explicitly calling ```null_decorator``` on ```greet``` you can make use of Python's @ syntax for decorating a function more conveniently. "
   ]
  },
  {
   "cell_type": "code",
   "execution_count": 188,
   "id": "f6fea5ef",
   "metadata": {},
   "outputs": [
    {
     "data": {
      "text/plain": [
       "'HELLO'"
      ]
     },
     "execution_count": 188,
     "metadata": {},
     "output_type": "execute_result"
    }
   ],
   "source": [
    "# the @null_decorator is just syntactic sugar\n",
    "@null_decorator\n",
    "def greet():\n",
    "    return 'HELLO'\n",
    "\n",
    "greet()"
   ]
  },
  {
   "cell_type": "markdown",
   "id": "1e2cf1ca",
   "metadata": {},
   "source": [
    "### Decorators can modify behavior \n",
    "\n",
    "* The original callable isn't permanently modified - it's behavior changes only when decorated\n",
    "* This let's you **add reusable building blocks** to existing functions and classes"
   ]
  },
  {
   "cell_type": "code",
   "execution_count": 194,
   "id": "2002a2b6",
   "metadata": {},
   "outputs": [],
   "source": [
    "# A general decorator\n",
    "\n",
    "# a callable that accepts and returns a callable\n",
    "def uppercase(func):     \n",
    "    def wrapper(word):\n",
    "        original_result = func(word)\n",
    "        modified_result = original_result.upper()\n",
    "        return modified_result \n",
    "    return wrapper"
   ]
  },
  {
   "cell_type": "code",
   "execution_count": 195,
   "id": "b80f8018",
   "metadata": {},
   "outputs": [],
   "source": [
    "# remember this is syntactic sugar for uppercase(greet())\n",
    "@uppercase \n",
    "def greet(word):\n",
    "    return word + '!'"
   ]
  },
  {
   "cell_type": "code",
   "execution_count": 196,
   "id": "2d37f480",
   "metadata": {},
   "outputs": [
    {
     "data": {
      "text/plain": [
       "'HELLO!'"
      ]
     },
     "execution_count": 196,
     "metadata": {},
     "output_type": "execute_result"
    }
   ],
   "source": [
    "greet('hello')"
   ]
  },
  {
   "cell_type": "markdown",
   "id": "c62fe374",
   "metadata": {},
   "source": [
    "### Applying Multiple Decorators to a Function \n",
    "\n",
    "* You can apply more then one decorator\n",
    "* This is what makes decorators so powerful"
   ]
  },
  {
   "cell_type": "code",
   "execution_count": 199,
   "id": "7371bf35",
   "metadata": {},
   "outputs": [],
   "source": [
    "def strong(func):\n",
    "    def wrapper():\n",
    "        return '<strong>' + func() + '</strong>'\n",
    "    return wrapper\n",
    "\n",
    "def emphasis(func):\n",
    "    def wrapper():\n",
    "        return '<em>' + func() + '</em>'\n",
    "    return wrapper"
   ]
  },
  {
   "cell_type": "code",
   "execution_count": 200,
   "id": "59c9437d",
   "metadata": {},
   "outputs": [
    {
     "data": {
      "text/plain": [
       "'<strong><em>hello</em></strong>'"
      ]
     },
     "execution_count": 200,
     "metadata": {},
     "output_type": "execute_result"
    }
   ],
   "source": [
    "# conventional function wrapping\n",
    "def greet():\n",
    "    return 'hello'\n",
    "\n",
    "decorated_greet = strong(emphasis(greet))\n",
    "decorated_greet()"
   ]
  },
  {
   "cell_type": "code",
   "execution_count": 201,
   "id": "7e1c15e4",
   "metadata": {},
   "outputs": [],
   "source": [
    "# decorator stacking is more readible\n",
    "@strong\n",
    "@emphasis\n",
    "def greet():\n",
    "    return 'Hello!'"
   ]
  },
  {
   "cell_type": "code",
   "execution_count": 202,
   "id": "5ac6621a",
   "metadata": {},
   "outputs": [
    {
     "data": {
      "text/plain": [
       "'<strong><em>Hello!</em></strong>'"
      ]
     },
     "execution_count": 202,
     "metadata": {},
     "output_type": "execute_result"
    }
   ],
   "source": [
    "# calling this decorated function clearly shows the order of application\n",
    "greet()"
   ]
  },
  {
   "cell_type": "markdown",
   "id": "784fd249",
   "metadata": {},
   "source": [
    "### Decorating functions that accept a variable number of arguments\n",
    "\n",
    "* Python's ```*args``` and ```**kwargs``` are great for use with decorators"
   ]
  },
  {
   "cell_type": "code",
   "execution_count": 203,
   "id": "7de9cef5",
   "metadata": {},
   "outputs": [],
   "source": [
    "# It is better to use the *args, **kwargs instead of being explicit\n",
    "def proxy(func):\n",
    "    def wrap(*args, **kwargs):\n",
    "        return func(*args, **kwargs)\n",
    "    return wrap"
   ]
  },
  {
   "cell_type": "markdown",
   "id": "318f1141",
   "metadata": {},
   "source": [
    "Below is a decorator that is very versatile because of the use of ```*args``` and ```**kwargs```."
   ]
  },
  {
   "cell_type": "code",
   "execution_count": 210,
   "id": "6b159446",
   "metadata": {},
   "outputs": [],
   "source": [
    "def trace(func):\n",
    "    def wrapper(*args, **kwargs):\n",
    "        print(f'TRACE: calling {func.__name__}()  '\n",
    "              f'with {args}, {kwargs}')\n",
    "        \n",
    "        function_result = func(*args,**kwargs)\n",
    "        \n",
    "        print(f'TRACE: {func.__name__}()  '\n",
    "              f'returned {function_result!r}')\n",
    "        \n",
    "        return function_result\n",
    "    return wrapper"
   ]
  },
  {
   "cell_type": "code",
   "execution_count": 211,
   "id": "6eb332d3",
   "metadata": {},
   "outputs": [],
   "source": [
    "@trace \n",
    "def say(name, line):\n",
    "    return f'{name}: {line}'"
   ]
  },
  {
   "cell_type": "code",
   "execution_count": 212,
   "id": "15a7037b",
   "metadata": {},
   "outputs": [
    {
     "name": "stdout",
     "output_type": "stream",
     "text": [
      "TRACE: calling say()  with ('Jane', 'says hello world'), {}\n",
      "TRACE: say()  returned 'Jane: says hello world'\n"
     ]
    },
    {
     "data": {
      "text/plain": [
       "'Jane: says hello world'"
      ]
     },
     "execution_count": 212,
     "metadata": {},
     "output_type": "execute_result"
    }
   ],
   "source": [
    "say('Jane', 'says hello world')"
   ]
  },
  {
   "cell_type": "code",
   "execution_count": 213,
   "id": "48d7d8ff",
   "metadata": {},
   "outputs": [],
   "source": [
    "@trace \n",
    "def add(a,b):\n",
    "    return f'The result of {a} + {b} is {a+b}'"
   ]
  },
  {
   "cell_type": "code",
   "execution_count": 214,
   "id": "a693b3c9",
   "metadata": {},
   "outputs": [
    {
     "name": "stdout",
     "output_type": "stream",
     "text": [
      "TRACE: calling add()  with (3, 4), {}\n",
      "TRACE: add()  returned 'The result of 3 + 4 is 7'\n"
     ]
    },
    {
     "data": {
      "text/plain": [
       "'The result of 3 + 4 is 7'"
      ]
     },
     "execution_count": 214,
     "metadata": {},
     "output_type": "execute_result"
    }
   ],
   "source": [
    "add(3,4)"
   ]
  },
  {
   "cell_type": "markdown",
   "id": "ff1b9d37",
   "metadata": {},
   "source": [
    "### Writing Debuggable Decorators\n",
    "\n",
    "When you use a decorator, really what you’re doing is replacing one\n",
    "function with another. One downside of this process is that it “hides”\n",
    "some of the metadata attached to the original (undecorated) function."
   ]
  },
  {
   "cell_type": "code",
   "execution_count": 215,
   "id": "ac7433e1",
   "metadata": {},
   "outputs": [],
   "source": [
    "# A general decorator\n",
    "def uppercase(func):     \n",
    "    def wrapper():\n",
    "        original_result = func()\n",
    "        modified_result = original_result.upper()\n",
    "        return modified_result \n",
    "    return wrapper\n",
    "\n",
    "def greet():\n",
    "    \"\"\"Return a friendly greeting.\"\"\"\n",
    "    return 'Hello!'\n",
    "\n",
    "decorated_greet = uppercase(greet)"
   ]
  },
  {
   "cell_type": "code",
   "execution_count": 216,
   "id": "963aa70e",
   "metadata": {},
   "outputs": [
    {
     "data": {
      "text/plain": [
       "'greet'"
      ]
     },
     "execution_count": 216,
     "metadata": {},
     "output_type": "execute_result"
    }
   ],
   "source": [
    "greet.__name__"
   ]
  },
  {
   "cell_type": "code",
   "execution_count": 217,
   "id": "dd2c4066",
   "metadata": {},
   "outputs": [
    {
     "data": {
      "text/plain": [
       "'Return a friendly greeting.'"
      ]
     },
     "execution_count": 217,
     "metadata": {},
     "output_type": "execute_result"
    }
   ],
   "source": [
    "greet.__doc__"
   ]
  },
  {
   "cell_type": "code",
   "execution_count": 218,
   "id": "7f83347e",
   "metadata": {},
   "outputs": [
    {
     "data": {
      "text/plain": [
       "'wrapper'"
      ]
     },
     "execution_count": 218,
     "metadata": {},
     "output_type": "execute_result"
    }
   ],
   "source": [
    "decorated_greet.__name__"
   ]
  },
  {
   "cell_type": "code",
   "execution_count": 219,
   "id": "bd339af0",
   "metadata": {},
   "outputs": [],
   "source": [
    "# this doesn't return anything\n",
    "decorated_greet.__doc__"
   ]
  },
  {
   "cell_type": "markdown",
   "id": "22d7bbc5",
   "metadata": {},
   "source": [
    "The work around is the ```functools.wraps``` decorator included in Python's standard library. This will **copy over the lost metadata from the undecorated function to the decorator closure**"
   ]
  },
  {
   "cell_type": "code",
   "execution_count": 220,
   "id": "e9d1a651",
   "metadata": {},
   "outputs": [],
   "source": [
    "import functools \n",
    "\n",
    "def uppercase(func):\n",
    "    @functools.wraps(func)\n",
    "    def wrapper():\n",
    "        return func().upper()\n",
    "    return wrapper"
   ]
  },
  {
   "cell_type": "code",
   "execution_count": 221,
   "id": "2abcd982",
   "metadata": {},
   "outputs": [],
   "source": [
    "@uppercase\n",
    "def greet():\n",
    "    \"\"\"Introduction message\"\"\"\n",
    "    return 'Hello!'"
   ]
  },
  {
   "cell_type": "code",
   "execution_count": 222,
   "id": "095a0ce7",
   "metadata": {},
   "outputs": [
    {
     "data": {
      "text/plain": [
       "'greet'"
      ]
     },
     "execution_count": 222,
     "metadata": {},
     "output_type": "execute_result"
    }
   ],
   "source": [
    "# we retain the original name of the function\n",
    "greet.__name__"
   ]
  },
  {
   "cell_type": "code",
   "execution_count": 223,
   "id": "fe86a9da",
   "metadata": {},
   "outputs": [
    {
     "data": {
      "text/plain": [
       "'Introduction message'"
      ]
     },
     "execution_count": 223,
     "metadata": {},
     "output_type": "execute_result"
    }
   ],
   "source": [
    "# now we get the wrapped functions doc string\n",
    "greet.__doc__"
   ]
  },
  {
   "cell_type": "markdown",
   "id": "9d34f310",
   "metadata": {},
   "source": [
    "___\n",
    "## 3.4 Fun with ```*args``` and ```**kwargs```"
   ]
  },
  {
   "cell_type": "markdown",
   "id": "7d6b3523",
   "metadata": {},
   "source": [
    "### Summary \n",
    "* ```*args``` and ```**kwargs``` let you write functions with a **variable\n",
    "number of arguments** in Python.\n",
    "* ```*args``` collects extra positional arguments as a **tuple**. ```**kwargs```\n",
    "collects the extra keyword arguments as a **dictionary**.\n",
    "* The actual syntax is * and **. Calling them args and kwargs is\n",
    "just a convention (and one you should stick to).\n"
   ]
  },
  {
   "cell_type": "code",
   "execution_count": 225,
   "id": "0f3374c6",
   "metadata": {},
   "outputs": [],
   "source": [
    "# required variable is a compulsary input\n",
    "# the following positional arguments and keyword arguments are optional\n",
    "def foo(required, *args, **kwargs):\n",
    "    print(required)\n",
    "    if args:\n",
    "        print(args)\n",
    "    if kwargs:\n",
    "        print(kwargs)"
   ]
  },
  {
   "cell_type": "code",
   "execution_count": 226,
   "id": "2e0e29e0",
   "metadata": {},
   "outputs": [
    {
     "name": "stdout",
     "output_type": "stream",
     "text": [
      "hello\n"
     ]
    }
   ],
   "source": [
    "foo('hello')"
   ]
  },
  {
   "cell_type": "code",
   "execution_count": 227,
   "id": "1fb8d1f2",
   "metadata": {},
   "outputs": [
    {
     "name": "stdout",
     "output_type": "stream",
     "text": [
      "hello\n",
      "(1, 2, 3)\n"
     ]
    }
   ],
   "source": [
    "foo('hello', 1, 2, 3)"
   ]
  },
  {
   "cell_type": "code",
   "execution_count": 228,
   "id": "150948bd",
   "metadata": {},
   "outputs": [
    {
     "name": "stdout",
     "output_type": "stream",
     "text": [
      "hello\n",
      "(1, 2, 3)\n",
      "{'k1': 'car', 'k2': 10}\n"
     ]
    }
   ],
   "source": [
    "foo('hello', 1, 2, 3, k1 = 'car', k2 = 10)"
   ]
  },
  {
   "cell_type": "markdown",
   "id": "8a3542b8",
   "metadata": {},
   "source": [
    "### Forwarding Optional or Keyword Arguments\n",
    "\n",
    "It's possible to pass optional or keyword parameters from one function to another. You can do this by unpacking ```*args``` and ```**kwargs```"
   ]
  },
  {
   "cell_type": "code",
   "execution_count": 233,
   "id": "88fc2ed8",
   "metadata": {},
   "outputs": [],
   "source": [
    "def bar(x, *args, **kwargs):\n",
    "    print(x)\n",
    "    if args: \n",
    "        print(args)\n",
    "    if kwargs:\n",
    "        print(kwargs)\n",
    "\n",
    "# kwargs and args are forwarded to bar\n",
    "def foo(x, *args, **kwargs):\n",
    "    kwargs['name'] = 'Alice'\n",
    "    new_args = args + ('extra', )\n",
    "    bar(x, *new_args, **kwargs)"
   ]
  },
  {
   "cell_type": "code",
   "execution_count": 234,
   "id": "028b4aa5",
   "metadata": {},
   "outputs": [
    {
     "name": "stdout",
     "output_type": "stream",
     "text": [
      "x\n",
      "(1, 2, 3, 'extra')\n",
      "{'key1': 'car', 'key2': 'bus', 'name': 'Alice'}\n"
     ]
    }
   ],
   "source": [
    "foo('x', 1, 2, 3, key1='car', key2='bus')"
   ]
  },
  {
   "cell_type": "markdown",
   "id": "cd42470c",
   "metadata": {},
   "source": [
    "### Subclassing\n",
    "\n",
    "__NOTE__ : this is a common design pattern in tkinter\n",
    "\n",
    "You can use it to **extend the behavior of a parent class** without having to replicate the full signature of its constructor in the child class. We pass on the args and kwargs to the parent constructor"
   ]
  },
  {
   "cell_type": "code",
   "execution_count": 235,
   "id": "713837de",
   "metadata": {},
   "outputs": [],
   "source": [
    "class Car:\n",
    "    def __init__(self, color, mileage):\n",
    "        self.color = color\n",
    "        self.mileage = mileage\n",
    "\n",
    "class AlwaysBlueCar(Car):\n",
    "    def __init__(self, *args, **kwargs):\n",
    "        # we pass on all arguments to the parent class\n",
    "        super().__init__(*args, **kwargs)\n",
    "        self.color = 'blue'"
   ]
  },
  {
   "cell_type": "code",
   "execution_count": 236,
   "id": "1029e541",
   "metadata": {},
   "outputs": [
    {
     "data": {
      "text/plain": [
       "'blue'"
      ]
     },
     "execution_count": 236,
     "metadata": {},
     "output_type": "execute_result"
    }
   ],
   "source": [
    "car = AlwaysBlueCar('red', 28392)\n",
    "car.color"
   ]
  },
  {
   "cell_type": "markdown",
   "id": "4d7333a6",
   "metadata": {},
   "source": [
    "**TAKE CARE**\n",
    "\n",
    "\n",
    "However, you should be careful as the child class has an *unhelpful signature* since we don't know what arguments it expects without looking up the parent class!"
   ]
  },
  {
   "cell_type": "markdown",
   "id": "22e3e1f6",
   "metadata": {},
   "source": [
    "### Wrapper functions\n",
    "\n",
    "Ideal use case as you typically **want to pass an arbitrary number of arguments** to the wrapped function. \n",
    "\n",
    "You need to **walk the line** between: \n",
    "\n",
    "**EXPLICIT VS DRY (DON'T REPEAT YOURSELF)**"
   ]
  },
  {
   "cell_type": "code",
   "execution_count": 237,
   "id": "abb60053",
   "metadata": {},
   "outputs": [],
   "source": [
    "import functools\n",
    "from datetime import datetime"
   ]
  },
  {
   "cell_type": "code",
   "execution_count": 265,
   "id": "cfde91d0",
   "metadata": {},
   "outputs": [],
   "source": [
    "# decorators\n",
    "def trace(f):\n",
    "    @functools.wraps(f)\n",
    "    def decorated_function(*args,**kwargs):\n",
    "        print('[trace]', f, args, kwargs)\n",
    "        return f(*args, **kwargs)\n",
    "        \n",
    "    return decorated_function\n",
    "\n",
    "def timer(f):\n",
    "    @functools.wraps(f)\n",
    "    def decorated_function(*args,**kwargs):\n",
    "        print('[timer]', datetime.now())\n",
    "        return f(*args, **kwargs)\n",
    "    \n",
    "    return decorated_function  "
   ]
  },
  {
   "cell_type": "code",
   "execution_count": 284,
   "id": "9055754d",
   "metadata": {},
   "outputs": [],
   "source": [
    "@trace\n",
    "@timer\n",
    "def greet(greeting,name, *args, **kwargs):\n",
    "    \"\"\"Prints a greeting\"\"\"\n",
    "    return '{}, {}!'.format(greeting, name)\n",
    "\n",
    "@trace\n",
    "@timer\n",
    "def logger(name, *args, **kwargs):\n",
    "    \"\"\"Logs information\"\"\"\n",
    "    return f'Please wait {name} logging information'"
   ]
  },
  {
   "cell_type": "code",
   "execution_count": 285,
   "id": "622e88d1",
   "metadata": {},
   "outputs": [
    {
     "name": "stdout",
     "output_type": "stream",
     "text": [
      "[trace] <function greet at 0x00000174EFCBCF70> ('Hello', 'Bob') {'age': 21}\n",
      "[timer] 2021-05-04 16:26:44.616408\n"
     ]
    },
    {
     "data": {
      "text/plain": [
       "'Hello, Bob!'"
      ]
     },
     "execution_count": 285,
     "metadata": {},
     "output_type": "execute_result"
    }
   ],
   "source": [
    "greet('Hello', 'Bob', age = 21)"
   ]
  },
  {
   "cell_type": "code",
   "execution_count": 286,
   "id": "bd40a28d",
   "metadata": {},
   "outputs": [
    {
     "name": "stdout",
     "output_type": "stream",
     "text": [
      "[trace] <function logger at 0x00000174EFCBCA60> ('Thomas', 20, '6292-2907') {'postcode': '2904', 'city': 'New York'}\n",
      "[timer] 2021-05-04 16:26:44.669229\n"
     ]
    },
    {
     "data": {
      "text/plain": [
       "'Please wait Thomas logging information'"
      ]
     },
     "execution_count": 286,
     "metadata": {},
     "output_type": "execute_result"
    }
   ],
   "source": [
    "logger('Thomas', 20,'6292-2907', postcode = '2904', city = 'New York')"
   ]
  },
  {
   "cell_type": "code",
   "execution_count": 287,
   "id": "a19f50ba",
   "metadata": {},
   "outputs": [
    {
     "data": {
      "text/plain": [
       "'Logs information'"
      ]
     },
     "execution_count": 287,
     "metadata": {},
     "output_type": "execute_result"
    }
   ],
   "source": [
    "logger.__doc__"
   ]
  },
  {
   "cell_type": "markdown",
   "id": "84703722",
   "metadata": {},
   "source": [
    "___\n",
    "## 3.5 Function Argument Unpacking\n",
    "\n",
    "### Summary\n",
    "* We can use the ```*``` and ```**``` operators to unpack function arguments from sequences and dictionaries.\n",
    "*  Using argument unpacking effectively can help you write more\n",
    "flexible interfaces for your modules and functions.\n",
    "* They can help **reduce complexity** by removing the need to build custom data structures"
   ]
  },
  {
   "cell_type": "code",
   "execution_count": 288,
   "id": "52580f19",
   "metadata": {},
   "outputs": [],
   "source": [
    "# simple example to work with\n",
    "def print_vector(x,y,z):\n",
    "    print('<%s, %s, %s>' % (x,y,z))"
   ]
  },
  {
   "cell_type": "code",
   "execution_count": 289,
   "id": "e8aba67d",
   "metadata": {},
   "outputs": [
    {
     "name": "stdout",
     "output_type": "stream",
     "text": [
      "<0, 1, 0>\n"
     ]
    }
   ],
   "source": [
    "print_vector(0,1,0)"
   ]
  },
  {
   "cell_type": "code",
   "execution_count": 290,
   "id": "81ef13cf",
   "metadata": {},
   "outputs": [],
   "source": [
    "tuple_vector = (0,1,0)"
   ]
  },
  {
   "cell_type": "code",
   "execution_count": 291,
   "id": "831c302c",
   "metadata": {},
   "outputs": [
    {
     "name": "stdout",
     "output_type": "stream",
     "text": [
      "<0, 1, 0>\n"
     ]
    }
   ],
   "source": [
    "# making use of the splat operator\n",
    "print_vector(*tuple_vector)"
   ]
  },
  {
   "cell_type": "markdown",
   "id": "40bc919e",
   "metadata": {},
   "source": [
    "### Use with generators"
   ]
  },
  {
   "cell_type": "code",
   "execution_count": 292,
   "id": "e4f295f1",
   "metadata": {},
   "outputs": [
    {
     "name": "stdout",
     "output_type": "stream",
     "text": [
      "<0, 1, 4>\n"
     ]
    }
   ],
   "source": [
    "g = (x*x for x in range(3))\n",
    "\n",
    "# we can use this splat operator with generators\n",
    "# fully unpacking a generator\n",
    "print_vector(*g)"
   ]
  },
  {
   "cell_type": "markdown",
   "id": "eb12b686",
   "metadata": {},
   "source": [
    "### Use with dictionaries"
   ]
  },
  {
   "cell_type": "code",
   "execution_count": 293,
   "id": "33e59924",
   "metadata": {},
   "outputs": [],
   "source": [
    "dict_vec = { 'x' : 1, 'y' : 5, 'z' : -10}"
   ]
  },
  {
   "cell_type": "markdown",
   "id": "476a5e8a",
   "metadata": {},
   "source": [
    "#### ```* operator```"
   ]
  },
  {
   "cell_type": "code",
   "execution_count": 294,
   "id": "f149675c",
   "metadata": {},
   "outputs": [
    {
     "name": "stdout",
     "output_type": "stream",
     "text": [
      "<x, y, z>\n"
     ]
    }
   ],
   "source": [
    "# keys will get passed in a random order\n",
    "print_vector(*dict_vec)"
   ]
  },
  {
   "cell_type": "markdown",
   "id": "2de5e81f",
   "metadata": {},
   "source": [
    "#### ```** operator```"
   ]
  },
  {
   "cell_type": "code",
   "execution_count": 295,
   "id": "3e5cfc4c",
   "metadata": {},
   "outputs": [
    {
     "name": "stdout",
     "output_type": "stream",
     "text": [
      "<1, 5, -10>\n"
     ]
    }
   ],
   "source": [
    "# the kwargs are passed to the function print_vector\n",
    "# within print_vector's scope x, y and z map to the keys of the dictionary \n",
    "print_vector(**dict_vec)"
   ]
  },
  {
   "cell_type": "markdown",
   "id": "dd0c6f21",
   "metadata": {},
   "source": [
    "#### Subtle differences"
   ]
  },
  {
   "cell_type": "code",
   "execution_count": 296,
   "id": "0b6d28d9",
   "metadata": {},
   "outputs": [],
   "source": [
    "def print_vals(*args, **kwargs):\n",
    "    if args:\n",
    "        for arg in args:\n",
    "            print(arg)\n",
    "            \n",
    "    if kwargs:\n",
    "        print(kwargs)\n",
    "        for kwarg in kwargs:\n",
    "            print(f'{kwarg} : {kwargs[kwarg]}')"
   ]
  },
  {
   "cell_type": "code",
   "execution_count": 297,
   "id": "1f40b995",
   "metadata": {},
   "outputs": [
    {
     "name": "stdout",
     "output_type": "stream",
     "text": [
      "{'x': 1, 'y': 5, 'z': -10}\n"
     ]
    }
   ],
   "source": [
    "# an object\n",
    "print_vals(dict_vec)"
   ]
  },
  {
   "cell_type": "code",
   "execution_count": 298,
   "id": "69e25cfd",
   "metadata": {},
   "outputs": [
    {
     "name": "stdout",
     "output_type": "stream",
     "text": [
      "x\n",
      "y\n",
      "z\n"
     ]
    }
   ],
   "source": [
    "# unpack keywords\n",
    "print_vals(*dict_vec)"
   ]
  },
  {
   "cell_type": "code",
   "execution_count": 299,
   "id": "c0db715f",
   "metadata": {},
   "outputs": [
    {
     "name": "stdout",
     "output_type": "stream",
     "text": [
      "{'x': 1, 'y': 5, 'z': -10}\n",
      "x : 1\n",
      "y : 5\n",
      "z : -10\n"
     ]
    }
   ],
   "source": [
    "# unpack kwargs\n",
    "print_vals(**dict_vec)"
   ]
  },
  {
   "cell_type": "markdown",
   "id": "1097effb",
   "metadata": {},
   "source": [
    "___\n",
    "## 3.6 Nothing to Return Here\n",
    "\n",
    "### Summary \n",
    "\n",
    "* **Rule of thumb: leave out return statement if the encapsulated code doesn't actually return anything**. The other case is encapsulated code where we are only interested in the side-effects.\n",
    "* Other languages name an encapsulated portion of code a ***procedure* if there is no return statement**\n",
    "* If a function doesn't specify a return value, it returns ```None```\n",
    "Whether to return ```None``` is a stylistic decision\n",
    "* This is a core Python feature but your code might communicate its intent more clearly with an explicit ```return None``` statement"
   ]
  },
  {
   "cell_type": "code",
   "execution_count": 300,
   "id": "f7415f35",
   "metadata": {},
   "outputs": [],
   "source": [
    "# all 3 imply the same behavior\n",
    "def foo1(value):\n",
    "    if value:\n",
    "        return value\n",
    "    else:\n",
    "        return None\n",
    "\n",
    "# I tend to gravitate towards this function definition\n",
    "def foo2(value):\n",
    "    \"\"\"Bare return statement implies 'return None'\"\"\"\n",
    "    if value:\n",
    "        return value \n",
    "    else:\n",
    "        return \n",
    "    \n",
    "# can be considered a procedure\n",
    "def foo3(value):\n",
    "    \"\"\"Missing return statement\"\"\"\n",
    "    if value:\n",
    "        return value"
   ]
  },
  {
   "cell_type": "code",
   "execution_count": 301,
   "id": "34f18335",
   "metadata": {},
   "outputs": [
    {
     "name": "stdout",
     "output_type": "stream",
     "text": [
      "<class 'NoneType'>\n",
      "<class 'NoneType'>\n",
      "<class 'NoneType'>\n"
     ]
    }
   ],
   "source": [
    "# passing falsy values\n",
    "print(type(foo1(0)))\n",
    "print(type(foo2(0)))\n",
    "print(type(foo3(0)))"
   ]
  }
 ],
 "metadata": {
  "kernelspec": {
   "display_name": "Python 3",
   "language": "python",
   "name": "python3"
  },
  "language_info": {
   "codemirror_mode": {
    "name": "ipython",
    "version": 3
   },
   "file_extension": ".py",
   "mimetype": "text/x-python",
   "name": "python",
   "nbconvert_exporter": "python",
   "pygments_lexer": "ipython3",
   "version": "3.8.8"
  }
 },
 "nbformat": 4,
 "nbformat_minor": 5
}

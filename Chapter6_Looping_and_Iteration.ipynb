{
 "cells": [
  {
   "cell_type": "markdown",
   "id": "5c492d9b",
   "metadata": {},
   "source": [
    "# Chapter 6 - Looping & Iteration\n",
    "___\n",
    "## 6.1 Writing Pythonic Loops\n",
    "\n",
    "## Summary \n",
    "* Writing C-style loops in Python is considered unpythonic.\n",
    "Avoid managing loop indexes and stop conditions manually if\n",
    "possible.\n",
    "* Python’s for-loops are really “for-each” loops that can iterate\n",
    "directly over items from a container or sequence."
   ]
  },
  {
   "cell_type": "code",
   "execution_count": 1,
   "id": "7a2799ef",
   "metadata": {},
   "outputs": [
    {
     "name": "stdout",
     "output_type": "stream",
     "text": [
      "a\n",
      "b\n",
      "c\n"
     ]
    }
   ],
   "source": [
    "# C or Java loops\n",
    "\n",
    "my_items = ['a', 'b', 'c']\n",
    "\n",
    "i = 0\n",
    "while i < len(my_items):\n",
    "    print(my_items[i])\n",
    "    i += 1"
   ]
  },
  {
   "cell_type": "code",
   "execution_count": 2,
   "id": "4e606e49",
   "metadata": {},
   "outputs": [
    {
     "name": "stdout",
     "output_type": "stream",
     "text": [
      "a\n",
      "b\n",
      "c\n"
     ]
    }
   ],
   "source": [
    "# Java loops\n",
    "for i in range(len(my_items)):\n",
    "    print(my_items[i])"
   ]
  },
  {
   "cell_type": "code",
   "execution_count": 10,
   "id": "fde0582a",
   "metadata": {},
   "outputs": [
    {
     "name": "stdout",
     "output_type": "stream",
     "text": [
      "a\n",
      "b\n",
      "c\n"
     ]
    }
   ],
   "source": [
    "# for each python loop  \n",
    "for item in my_items:\n",
    "    print(item)"
   ]
  },
  {
   "cell_type": "code",
   "execution_count": 11,
   "id": "e2f8f264",
   "metadata": {},
   "outputs": [
    {
     "name": "stdout",
     "output_type": "stream",
     "text": [
      "0 : a\n",
      "1 : b\n",
      "2 : c\n"
     ]
    }
   ],
   "source": [
    "# enumerate \n",
    "for i, item in enumerate(my_items):\n",
    "    print(f'{i} : {item}')"
   ]
  },
  {
   "cell_type": "code",
   "execution_count": 12,
   "id": "9d4c8e8f",
   "metadata": {},
   "outputs": [
    {
     "name": "stdout",
     "output_type": "stream",
     "text": [
      "Bob -> bob@example.com\n",
      "Alice -> alice@example.com\n"
     ]
    }
   ],
   "source": [
    "# pythonic looping through dictionary \n",
    "emails = {\n",
    "    'Bob' : 'bob@example.com',\n",
    "    'Alice' : 'alice@example.com', \n",
    "}\n",
    "\n",
    "for name, email in emails.items():\n",
    "    print(f'{name} -> {email}')"
   ]
  },
  {
   "cell_type": "code",
   "execution_count": 13,
   "id": "a346596e",
   "metadata": {},
   "outputs": [
    {
     "name": "stdout",
     "output_type": "stream",
     "text": [
      "1\n",
      "3\n",
      "5\n",
      "7\n",
      "9\n"
     ]
    }
   ],
   "source": [
    "# C-style loop \n",
    "# for (int i = a; i < n; i += s) {\n",
    "#      ...\n",
    "# }\n",
    "\n",
    "for i in range(1, 10, 2):\n",
    "    print(i)"
   ]
  },
  {
   "cell_type": "markdown",
   "id": "aa6a6f7d",
   "metadata": {},
   "source": [
    "___\n",
    "## 6.2 Comprehending Comprehensions\n",
    "\n",
    "*Synactic sugar* for looping in a pythonic manner. One level of\n",
    "nesting for comprehensions is the limit. After that, in most cases it’s better (as in “more readable” and “easier to maintain”) to use for-loops beyond that point.\n",
    "\n",
    "```Python\n",
    "values = [expression for item in collection]\n",
    "\n",
    "values = []\n",
    "for item in collection:\n",
    "    values.append(expression)\n",
    "```"
   ]
  },
  {
   "cell_type": "markdown",
   "id": "fd492c70",
   "metadata": {},
   "source": [
    "### Equivalence with conventional syntax"
   ]
  },
  {
   "cell_type": "code",
   "execution_count": 22,
   "id": "66ce29e9",
   "metadata": {},
   "outputs": [
    {
     "data": {
      "text/plain": [
       "[0, 1, 4, 9, 16, 25, 36, 49, 64, 81]"
      ]
     },
     "execution_count": 22,
     "metadata": {},
     "output_type": "execute_result"
    }
   ],
   "source": [
    "squares = [x*x for x in range(10)]\n",
    "squares"
   ]
  },
  {
   "cell_type": "code",
   "execution_count": 23,
   "id": "02780e18",
   "metadata": {},
   "outputs": [
    {
     "data": {
      "text/plain": [
       "[0, 1, 4, 9, 16, 25, 36, 49, 64, 81]"
      ]
     },
     "execution_count": 23,
     "metadata": {},
     "output_type": "execute_result"
    }
   ],
   "source": [
    "squares = []\n",
    "\n",
    "for x in range(10):\n",
    "    squares.append(x*x)\n",
    "\n",
    "squares"
   ]
  },
  {
   "cell_type": "markdown",
   "id": "f26a2dbd",
   "metadata": {},
   "source": [
    "### conditional logic "
   ]
  },
  {
   "cell_type": "code",
   "execution_count": 24,
   "id": "a97297e2",
   "metadata": {},
   "outputs": [
    {
     "data": {
      "text/plain": [
       "[0, 4, 16, 36, 64]"
      ]
     },
     "execution_count": 24,
     "metadata": {},
     "output_type": "execute_result"
    }
   ],
   "source": [
    "even_squares = [x*x for x in range(10) if x % 2 == 0]\n",
    "even_squares"
   ]
  },
  {
   "cell_type": "code",
   "execution_count": 25,
   "id": "d217e220",
   "metadata": {},
   "outputs": [
    {
     "data": {
      "text/plain": [
       "[0, 4, 16, 36, 64]"
      ]
     },
     "execution_count": 25,
     "metadata": {},
     "output_type": "execute_result"
    }
   ],
   "source": [
    "even_squares = []\n",
    "for x in range(10):\n",
    "    if x % 2 == 0:\n",
    "        even_squares.append(x * x)\n",
    "even_squares"
   ]
  },
  {
   "cell_type": "markdown",
   "id": "fd00b1d8",
   "metadata": {},
   "source": [
    "### Set and dictionary comprehensions\n",
    "\n",
    "It should be noted that sets are an unordered collection type. So you get **random** order when you add items to a ```set``` container"
   ]
  },
  {
   "cell_type": "code",
   "execution_count": 26,
   "id": "bfd47221",
   "metadata": {},
   "outputs": [
    {
     "data": {
      "text/plain": [
       "{0, 1, 4, 9, 16, 25, 36, 49, 64, 81}"
      ]
     },
     "execution_count": 26,
     "metadata": {},
     "output_type": "execute_result"
    }
   ],
   "source": [
    "# sets are unordered\n",
    "{x*x for x in range(-9,10)}"
   ]
  },
  {
   "cell_type": "code",
   "execution_count": 27,
   "id": "15a5a4bb",
   "metadata": {},
   "outputs": [
    {
     "data": {
      "text/plain": [
       "{0: 0, 1: 1, 2: 4, 3: 9, 4: 16}"
      ]
     },
     "execution_count": 27,
     "metadata": {},
     "output_type": "execute_result"
    }
   ],
   "source": [
    "# dictionary\n",
    "{x: x*x for x in range(5)}"
   ]
  },
  {
   "cell_type": "markdown",
   "id": "e3d23e82",
   "metadata": {},
   "source": [
    "___\n",
    "## 6.3 List Slicing Tricks and the sushi operator \n",
    "\n",
    "```Python\n",
    "lst[start:end:stop]\n",
    "```\n",
    "### Summary\n",
    "* The ```:``` “sushi operator” is not only useful for selecting sublists\n",
    "of elements within a list. It can also be used to clear, reverse,\n",
    "and copy lists.\n",
    "* But be careful—this functionality borders on the arcane for\n",
    "many Python developers. Using it might make your code less\n",
    "maintainable for everyone else on your team."
   ]
  },
  {
   "cell_type": "code",
   "execution_count": 47,
   "id": "d9a2f3f6",
   "metadata": {},
   "outputs": [
    {
     "data": {
      "text/plain": [
       "[0, 1, 2, 3, 4, 5]"
      ]
     },
     "execution_count": 47,
     "metadata": {},
     "output_type": "execute_result"
    }
   ],
   "source": [
    "lst = [x for x in range(6)]\n",
    "lst"
   ]
  },
  {
   "cell_type": "code",
   "execution_count": 48,
   "id": "e1c93278",
   "metadata": {},
   "outputs": [
    {
     "data": {
      "text/plain": [
       "[1, 2]"
      ]
     },
     "execution_count": 48,
     "metadata": {},
     "output_type": "execute_result"
    }
   ],
   "source": [
    "# start end and step\n",
    "lst[1:3:1]"
   ]
  },
  {
   "cell_type": "code",
   "execution_count": 49,
   "id": "a12e8d49",
   "metadata": {},
   "outputs": [
    {
     "data": {
      "text/plain": [
       "[1, 2, 3, 4]"
      ]
     },
     "execution_count": 49,
     "metadata": {},
     "output_type": "execute_result"
    }
   ],
   "source": [
    "# default step size is 1\n",
    "lst[1:5]"
   ]
  },
  {
   "cell_type": "markdown",
   "id": "a959e520",
   "metadata": {},
   "source": [
    "#### Sushi operator"
   ]
  },
  {
   "cell_type": "code",
   "execution_count": 50,
   "id": "ba7aa4d2",
   "metadata": {},
   "outputs": [
    {
     "data": {
      "text/plain": [
       "[0, 2, 4]"
      ]
     },
     "execution_count": 50,
     "metadata": {},
     "output_type": "execute_result"
    }
   ],
   "source": [
    "# sushi operator\n",
    "lst[::2]"
   ]
  },
  {
   "cell_type": "code",
   "execution_count": 51,
   "id": "a38983b4",
   "metadata": {},
   "outputs": [
    {
     "data": {
      "text/plain": [
       "[5, 4, 3, 2, 1, 0]"
      ]
     },
     "execution_count": 51,
     "metadata": {},
     "output_type": "execute_result"
    }
   ],
   "source": [
    "# reversing the list order\n",
    "lst[::-1]"
   ]
  },
  {
   "cell_type": "markdown",
   "id": "9ed82432",
   "metadata": {},
   "source": [
    "#### clearning contents"
   ]
  },
  {
   "cell_type": "code",
   "execution_count": 52,
   "id": "1054c0b6",
   "metadata": {},
   "outputs": [
    {
     "data": {
      "text/plain": [
       "[]"
      ]
     },
     "execution_count": 52,
     "metadata": {},
     "output_type": "execute_result"
    }
   ],
   "source": [
    "# deleting the contents of a list but not the object\n",
    "lst = [1,2,3,4,5]\n",
    "del lst[:]\n",
    "lst"
   ]
  },
  {
   "cell_type": "code",
   "execution_count": 53,
   "id": "681c86e4",
   "metadata": {},
   "outputs": [
    {
     "data": {
      "text/plain": [
       "[]"
      ]
     },
     "execution_count": 53,
     "metadata": {},
     "output_type": "execute_result"
    }
   ],
   "source": [
    "# equivalent\n",
    "lst = [1,2,3,4,5]\n",
    "lst.clear()\n",
    "lst"
   ]
  },
  {
   "cell_type": "markdown",
   "id": "9901d5fa",
   "metadata": {},
   "source": [
    "#### replacing elements without deleting the object"
   ]
  },
  {
   "cell_type": "code",
   "execution_count": 54,
   "id": "9d9a8a40",
   "metadata": {},
   "outputs": [
    {
     "data": {
      "text/plain": [
       "[7, 8, 9]"
      ]
     },
     "execution_count": 54,
     "metadata": {},
     "output_type": "execute_result"
    }
   ],
   "source": [
    "# replace all elements without creating a new list object\n",
    "original_lst = lst\n",
    "lst[:] = [7, 8, 9]\n",
    "lst"
   ]
  },
  {
   "cell_type": "code",
   "execution_count": 55,
   "id": "ee16cd2b",
   "metadata": {},
   "outputs": [
    {
     "data": {
      "text/plain": [
       "[7, 8, 9]"
      ]
     },
     "execution_count": 55,
     "metadata": {},
     "output_type": "execute_result"
    }
   ],
   "source": [
    "original_lst"
   ]
  },
  {
   "cell_type": "code",
   "execution_count": 56,
   "id": "fd1225e3",
   "metadata": {},
   "outputs": [
    {
     "data": {
      "text/plain": [
       "True"
      ]
     },
     "execution_count": 56,
     "metadata": {},
     "output_type": "execute_result"
    }
   ],
   "source": [
    "original_lst is lst"
   ]
  },
  {
   "cell_type": "markdown",
   "id": "b5ece869",
   "metadata": {},
   "source": [
    "#### Shallow copies"
   ]
  },
  {
   "cell_type": "code",
   "execution_count": 46,
   "id": "4abf1e33",
   "metadata": {},
   "outputs": [
    {
     "data": {
      "text/plain": [
       "False"
      ]
     },
     "execution_count": 46,
     "metadata": {},
     "output_type": "execute_result"
    }
   ],
   "source": [
    "copied_lst = lst[:]\n",
    "copied_lst is lst"
   ]
  },
  {
   "cell_type": "markdown",
   "id": "d99f819a",
   "metadata": {},
   "source": [
    "___\n",
    "## 6.4 Beautiful Iterators\n",
    "\n",
    "### Summary \n",
    "\n",
    "* Iterators provide a sequence interface to Python objects that’s **memory efficient and considered Pythonic**. Behold the beauty\n",
    "of the for-in loop!\n",
    "* To support iteration an object needs to implement the iterator protocol by providing the ```__iter__``` and ```__next__``` dunder\n",
    "methods.\n",
    "* Class-based iterators are only one way to write iterable objects\n",
    "in Python. Also consider generators and generator expressions\n",
    "\n",
    "Python's elegant loop constructs work by making use of the **iterator protocol**. This protocol makes use of the:\n",
    "\n",
    "* ```__iter__``` and ```__next__``` dunder methods in objects"
   ]
  },
  {
   "cell_type": "markdown",
   "id": "2b25fe6d",
   "metadata": {},
   "source": [
    "### How do ```for-in``` loops work in python\n",
    "\n",
    "```Python\n",
    "# syntactic sugar\n",
    "repeater = Repeater('Hello')\n",
    "for item in repeater:\n",
    "    print(item)\n",
    "\n",
    "# equivalent\n",
    "repeater = Repeater('Hello')\n",
    "iterator = repeater.__iter__()\n",
    "while True:\n",
    "    item = iterator.__next__()\n",
    "    print(item)       \n",
    "```"
   ]
  },
  {
   "cell_type": "markdown",
   "id": "6ae4a8ed",
   "metadata": {},
   "source": [
    "### Pythonic for loops under the hood"
   ]
  },
  {
   "cell_type": "code",
   "execution_count": 84,
   "id": "3412353f",
   "metadata": {},
   "outputs": [],
   "source": [
    "class BoundedRepeater:\n",
    "    def __init__(self, value, max_repeats):\n",
    "        self.value = value\n",
    "        self.max_repeats = max_repeats\n",
    "        self.count = 0\n",
    "    def __iter__(self):\n",
    "        return self\n",
    "    def __next__(self):\n",
    "        if self.count >= self.max_repeats:\n",
    "            raise StopIteration\n",
    "        self.count += 1\n",
    "        return self.value\n",
    "    \n",
    "    # Python 2 compatibility:\n",
    "    def next(self):\n",
    "        return self.__next__()"
   ]
  },
  {
   "cell_type": "code",
   "execution_count": 85,
   "id": "d956c8ed",
   "metadata": {},
   "outputs": [
    {
     "name": "stdout",
     "output_type": "stream",
     "text": [
      "Hello\n",
      "Hello\n",
      "Hello\n"
     ]
    }
   ],
   "source": [
    "repeater = BoundedRepeater('Hello', 3)\n",
    "for item in repeater:\n",
    "    print(item)"
   ]
  },
  {
   "cell_type": "code",
   "execution_count": 87,
   "id": "77ec70f9",
   "metadata": {},
   "outputs": [
    {
     "name": "stdout",
     "output_type": "stream",
     "text": [
      "Hello\n",
      "Hello\n",
      "Hello\n"
     ]
    }
   ],
   "source": [
    "# take away the syntactic sugar\n",
    "repeater = BoundedRepeater('Hello', 3)\n",
    "iterator = iter(repeater)\n",
    "while True:\n",
    "    try:\n",
    "        item = next(iterator)\n",
    "    except StopIteration:\n",
    "        break\n",
    "    print(item)"
   ]
  },
  {
   "cell_type": "markdown",
   "id": "0855a68a",
   "metadata": {},
   "source": [
    "### Iterating forever\n",
    "\n",
    "1. In the ```__init__``` method, we link each ```RepeaterIterator``` instance to the ```Repeater``` object that created it. That way we can\n",
    "hold onto the “source” object that’s being iterated over.\n",
    "2. In ```RepeaterIterator.__next__```, we reach back into the\n",
    "“source” ```Repeater``` instance and return the value associated\n",
    "with it.\n",
    "\n",
    "If you’ve ever worked with database cursors, this mental model will\n",
    "seem familiar: We first initialize the cursor and prepare it for reading,\n",
    "and then we can fetch data from it into local variables as needed, one\n",
    "element at a time."
   ]
  },
  {
   "cell_type": "code",
   "execution_count": 69,
   "id": "67b70d78",
   "metadata": {},
   "outputs": [],
   "source": [
    "class Repeater:\n",
    "    def __init__(self, value):\n",
    "        self.value = value\n",
    "    # iter()\n",
    "    def __iter__(self):\n",
    "        return RepeaterIterator(self)\n",
    "    \n",
    "class RepeaterIterator:\n",
    "    def __init__(self, source):\n",
    "        self.source = source\n",
    "    # next()\n",
    "    def __next__(self):\n",
    "        return self.source.value"
   ]
  },
  {
   "cell_type": "code",
   "execution_count": 70,
   "id": "4c7c2027",
   "metadata": {},
   "outputs": [
    {
     "name": "stdout",
     "output_type": "stream",
     "text": [
      "Hello\n",
      "Hello\n",
      "Hello\n",
      "Hello\n",
      "Hello\n",
      "Hello\n",
      "Hello\n",
      "Hello\n",
      "Hello\n",
      "Hello\n"
     ]
    }
   ],
   "source": [
    "repeater = Repeater('Hello')\n",
    "i = 0 \n",
    "\n",
    "while i < 10:\n",
    "    print(next(iter(repeater)))\n",
    "    i += 1"
   ]
  },
  {
   "cell_type": "markdown",
   "id": "9a4e11ea",
   "metadata": {},
   "source": [
    "#### Equivalence between dunder methods and facade methods"
   ]
  },
  {
   "cell_type": "code",
   "execution_count": 76,
   "id": "833b625d",
   "metadata": {},
   "outputs": [
    {
     "data": {
      "text/plain": [
       "'Hello'"
      ]
     },
     "execution_count": 76,
     "metadata": {},
     "output_type": "execute_result"
    }
   ],
   "source": [
    "repeater = Repeater('Hello')\n",
    "iterator = repeater.__iter__()\n",
    "iterator.__next__()"
   ]
  },
  {
   "cell_type": "markdown",
   "id": "d57306f5",
   "metadata": {},
   "source": [
    "#### Simpler repeater class"
   ]
  },
  {
   "cell_type": "code",
   "execution_count": 77,
   "id": "da8bd11b",
   "metadata": {},
   "outputs": [],
   "source": [
    "class Repeater:\n",
    "    def __init__(self, value):\n",
    "        self.value = value\n",
    "    def __iter__(self):\n",
    "        return self\n",
    "    def __next__(self):\n",
    "        return self.value"
   ]
  },
  {
   "cell_type": "code",
   "execution_count": 78,
   "id": "0f53957a",
   "metadata": {},
   "outputs": [
    {
     "data": {
      "text/plain": [
       "'Hello'"
      ]
     },
     "execution_count": 78,
     "metadata": {},
     "output_type": "execute_result"
    }
   ],
   "source": [
    "repeater = Repeater('Hello')\n",
    "repeater.__next__()"
   ]
  },
  {
   "cell_type": "markdown",
   "id": "cb60d797",
   "metadata": {},
   "source": [
    "### Iterating with termination conditions\n",
    "\n",
    "Iterators use **exceptions to structure control flow**. To signal the end of iteration, an iterator raises a ```StopIteration``` exception"
   ]
  },
  {
   "cell_type": "code",
   "execution_count": 80,
   "id": "9c42f2ec",
   "metadata": {},
   "outputs": [
    {
     "data": {
      "text/plain": [
       "3"
      ]
     },
     "execution_count": 80,
     "metadata": {},
     "output_type": "execute_result"
    }
   ],
   "source": [
    "my_list = [1,2,3]\n",
    "iterator = iter(my_list)\n",
    "next(iterator)\n",
    "next(iterator)\n",
    "next(iterator)"
   ]
  },
  {
   "cell_type": "code",
   "execution_count": 81,
   "id": "d76d24b7",
   "metadata": {},
   "outputs": [
    {
     "ename": "StopIteration",
     "evalue": "",
     "output_type": "error",
     "traceback": [
      "\u001b[1;31m---------------------------------------------------------------------------\u001b[0m",
      "\u001b[1;31mStopIteration\u001b[0m                             Traceback (most recent call last)",
      "\u001b[1;32m<ipython-input-81-4ce711c44abc>\u001b[0m in \u001b[0;36m<module>\u001b[1;34m\u001b[0m\n\u001b[1;32m----> 1\u001b[1;33m \u001b[0mnext\u001b[0m\u001b[1;33m(\u001b[0m\u001b[0miterator\u001b[0m\u001b[1;33m)\u001b[0m\u001b[1;33m\u001b[0m\u001b[1;33m\u001b[0m\u001b[0m\n\u001b[0m",
      "\u001b[1;31mStopIteration\u001b[0m: "
     ]
    }
   ],
   "source": [
    "next(iterator)"
   ]
  },
  {
   "cell_type": "markdown",
   "id": "d1d5bfcc",
   "metadata": {},
   "source": [
    "___\n",
    "## 6.5 Generators are simplified iterators\n",
    "\n",
    "Writing class-based iterators requires a lot of boilerplate code. There is a more efficient way using ```generators``` and the ```yield``` keyword.\n",
    "\n",
    "You see, when a ```return``` statement is invoked inside a function, it permanently passes control back to the caller of the function. When a ```yield``` is invoked, it also passes control back to the caller of the function—but it only does so temporarily.\n",
    "\n",
    "Whereas a ```return``` statement disposes of a function’s local state, a\n",
    "```yield``` statement **suspends the function and retains its local state**. In practical terms, this means **local variables and the execution state** of\n",
    "the generator function are only **stashed away temporarily** and not thrown out completely. \n",
    "\n",
    "### Summary\n",
    "* Generator functions are syntactic sugar for writing objects that\n",
    "support the iterator protocol. Generators abstract away much\n",
    "of the boilerplate code needed when writing class-based iterators.\n",
    "* The ```yield``` statement allows you to temporarily suspend execution of a generator function and to pass back values from it.\n",
    "* Generators start raising ```StopIteration``` exceptions after control flow leaves the generator function by **any means other than\n",
    "a yield statement.**"
   ]
  },
  {
   "cell_type": "code",
   "execution_count": 2,
   "id": "86c726fb",
   "metadata": {},
   "outputs": [],
   "source": [
    "# classed based approach\n",
    "class Repeater:\n",
    "    def __init__(self, value):\n",
    "        self.value = value\n",
    "    def __iter__(self):\n",
    "        return self\n",
    "    def __next__(self):\n",
    "        return self.value"
   ]
  },
  {
   "cell_type": "code",
   "execution_count": 5,
   "id": "2d811fa1",
   "metadata": {},
   "outputs": [],
   "source": [
    "# pythonic way\n",
    "def repeater(value):\n",
    "    while True:\n",
    "        yield value"
   ]
  },
  {
   "cell_type": "code",
   "execution_count": 7,
   "id": "a9a8a4f8",
   "metadata": {},
   "outputs": [
    {
     "data": {
      "text/plain": [
       "'hi'"
      ]
     },
     "execution_count": 7,
     "metadata": {},
     "output_type": "execute_result"
    }
   ],
   "source": [
    "re = repeater('hi')\n",
    "next(re)"
   ]
  },
  {
   "cell_type": "markdown",
   "id": "3ec8efa1",
   "metadata": {},
   "source": [
    "Calling a generator function doesn't even run the function. It merely creates and returns a **generator object**. The code in the function only exectues when ```next()``` is called on the object."
   ]
  },
  {
   "cell_type": "code",
   "execution_count": 8,
   "id": "937a90a3",
   "metadata": {},
   "outputs": [
    {
     "data": {
      "text/plain": [
       "<generator object repeater at 0x0000023D5EB3F270>"
      ]
     },
     "execution_count": 8,
     "metadata": {},
     "output_type": "execute_result"
    }
   ],
   "source": [
    "repeater('Hey')"
   ]
  },
  {
   "cell_type": "code",
   "execution_count": 9,
   "id": "261d491a",
   "metadata": {},
   "outputs": [
    {
     "data": {
      "text/plain": [
       "'Hey'"
      ]
     },
     "execution_count": 9,
     "metadata": {},
     "output_type": "execute_result"
    }
   ],
   "source": [
    "generator_obj = repeater('Hey')\n",
    "next(generator_obj)"
   ]
  },
  {
   "cell_type": "markdown",
   "id": "a97a80ef",
   "metadata": {},
   "source": [
    "### generators that stop generating "
   ]
  },
  {
   "cell_type": "code",
   "execution_count": 13,
   "id": "49f45e29",
   "metadata": {},
   "outputs": [],
   "source": [
    "def repeat_three_times(value):\n",
    "    yield value \n",
    "    yield value \n",
    "    yield value"
   ]
  },
  {
   "cell_type": "code",
   "execution_count": 15,
   "id": "c7c76d88",
   "metadata": {},
   "outputs": [
    {
     "name": "stdout",
     "output_type": "stream",
     "text": [
      "hi\n",
      "hi\n",
      "hi\n"
     ]
    }
   ],
   "source": [
    "rtt = repeat_three_times('hi')\n",
    "for _ in repeat_three_times('hi'):\n",
    "    print(next(rtt))"
   ]
  },
  {
   "cell_type": "code",
   "execution_count": 16,
   "id": "9c9bb9ba",
   "metadata": {},
   "outputs": [
    {
     "ename": "StopIteration",
     "evalue": "",
     "output_type": "error",
     "traceback": [
      "\u001b[1;31m---------------------------------------------------------------------------\u001b[0m",
      "\u001b[1;31mStopIteration\u001b[0m                             Traceback (most recent call last)",
      "\u001b[1;32m<ipython-input-16-d0c7f5780c20>\u001b[0m in \u001b[0;36m<module>\u001b[1;34m\u001b[0m\n\u001b[1;32m----> 1\u001b[1;33m \u001b[0mnext\u001b[0m\u001b[1;33m(\u001b[0m\u001b[0mrtt\u001b[0m\u001b[1;33m)\u001b[0m\u001b[1;33m\u001b[0m\u001b[1;33m\u001b[0m\u001b[0m\n\u001b[0m",
      "\u001b[1;31mStopIteration\u001b[0m: "
     ]
    }
   ],
   "source": [
    "next(rtt)"
   ]
  },
  {
   "cell_type": "markdown",
   "id": "72b0faad",
   "metadata": {},
   "source": [
    "### Bounded repeater with generators and yield"
   ]
  },
  {
   "cell_type": "code",
   "execution_count": 20,
   "id": "174ba151",
   "metadata": {},
   "outputs": [],
   "source": [
    "class BoundedRepeater:\n",
    "    def __init__(self, value, max_repeats):\n",
    "        self.value = value\n",
    "        self.max_repeats = max_repeats\n",
    "        self.count = 0\n",
    "    def __iter__(self):\n",
    "        return self\n",
    "    def __next__(self):\n",
    "        if self.count >= self.max_repeats:\n",
    "            raise StopIteration\n",
    "        self.count += 1\n",
    "        return self.value\n",
    "    \n",
    "    # Python 2 compatibility:\n",
    "    def next(self):\n",
    "        return self.__next__()"
   ]
  },
  {
   "cell_type": "code",
   "execution_count": 21,
   "id": "3673e2ac",
   "metadata": {},
   "outputs": [],
   "source": [
    "# this is a much slimmed down version of the class based approach \n",
    "def bounded_repeater(value, max_repeats):\n",
    "    count = 0\n",
    "    while True:\n",
    "        if count >= max_repeats:\n",
    "            return\n",
    "        count += 1\n",
    "        yield value"
   ]
  },
  {
   "cell_type": "code",
   "execution_count": 22,
   "id": "48ec1360",
   "metadata": {},
   "outputs": [
    {
     "name": "stdout",
     "output_type": "stream",
     "text": [
      "Hi\n",
      "Hi\n",
      "Hi\n",
      "Hi\n"
     ]
    }
   ],
   "source": [
    "for x in bounded_repeater('Hi', 4):\n",
    "    print(x)"
   ]
  },
  {
   "cell_type": "code",
   "execution_count": 24,
   "id": "13ec6ee5",
   "metadata": {},
   "outputs": [],
   "source": [
    "# 3 lines of code compared to 3\n",
    "def bounded_repeater(value, max_repeats):\n",
    "    for i in range(max_repeats):\n",
    "        yield value"
   ]
  },
  {
   "cell_type": "markdown",
   "id": "b7590122",
   "metadata": {},
   "source": [
    "___\n",
    "## 6.6 Generator expressions\n",
    "\n",
    "Generator functions give you a shortcut for supporting the iterator protocol in your own code.Generator expressions give you an even more effective shortcut for writing iterators. With a simple and concise syntax that looks like a list comprehension, you’ll be able to define iterators in a single line of code.\n",
    "\n",
    "```Python\n",
    "genexpr = (expression for item in collection)\n",
    "\n",
    "# equivalent code\n",
    "def generator():\n",
    "    for item in collection:\n",
    "        yield expression\n",
    "```"
   ]
  },
  {
   "cell_type": "code",
   "execution_count": 28,
   "id": "07593f16",
   "metadata": {},
   "outputs": [],
   "source": [
    "# 1 line of code vs 3\n",
    "iterator = ('Hello' for i in range(3)) "
   ]
  },
  {
   "cell_type": "code",
   "execution_count": 29,
   "id": "e295a246",
   "metadata": {},
   "outputs": [],
   "source": [
    "def bounded_repeater(value, max_repeats):\n",
    "    for i in range(max_repeats):\n",
    "        yield value\n"
   ]
  },
  {
   "cell_type": "code",
   "execution_count": 30,
   "id": "24bfe105",
   "metadata": {},
   "outputs": [
    {
     "name": "stdout",
     "output_type": "stream",
     "text": [
      "Hello\n",
      "Hello\n",
      "Hello\n"
     ]
    }
   ],
   "source": [
    "for i in iterator:\n",
    "    print(i)"
   ]
  },
  {
   "cell_type": "markdown",
   "id": "c080abc9",
   "metadata": {},
   "source": [
    "### list comprehensions vs generator expressions"
   ]
  },
  {
   "cell_type": "code",
   "execution_count": 31,
   "id": "953a1226",
   "metadata": {},
   "outputs": [],
   "source": [
    "listcomp = ['Hello' for i in range(3)]\n",
    "genexpr = ('Hello' for i in range(3))"
   ]
  },
  {
   "cell_type": "code",
   "execution_count": 32,
   "id": "5bd77a80",
   "metadata": {},
   "outputs": [
    {
     "data": {
      "text/plain": [
       "['Hello', 'Hello', 'Hello']"
      ]
     },
     "execution_count": 32,
     "metadata": {},
     "output_type": "execute_result"
    }
   ],
   "source": [
    "listcomp"
   ]
  },
  {
   "cell_type": "code",
   "execution_count": 33,
   "id": "2eba72ec",
   "metadata": {},
   "outputs": [
    {
     "data": {
      "text/plain": [
       "<generator object <genexpr> at 0x0000023D5F07BC10>"
      ]
     },
     "execution_count": 33,
     "metadata": {},
     "output_type": "execute_result"
    }
   ],
   "source": [
    "genexpr"
   ]
  },
  {
   "cell_type": "code",
   "execution_count": 34,
   "id": "436a9f5b",
   "metadata": {},
   "outputs": [
    {
     "data": {
      "text/plain": [
       "['Hello', 'Hello', 'Hello']"
      ]
     },
     "execution_count": 34,
     "metadata": {},
     "output_type": "execute_result"
    }
   ],
   "source": [
    "list(genexpr)"
   ]
  },
  {
   "cell_type": "markdown",
   "id": "dbd0045e",
   "metadata": {},
   "source": [
    "### filtering values \n",
    "\n",
    "```Python \n",
    "def generator():\n",
    "    for item in collection:\n",
    "        if condition:\n",
    "            yield expression\n",
    "```"
   ]
  },
  {
   "cell_type": "code",
   "execution_count": 36,
   "id": "e351b946",
   "metadata": {},
   "outputs": [
    {
     "name": "stdout",
     "output_type": "stream",
     "text": [
      "0\n",
      "4\n",
      "16\n",
      "36\n",
      "64\n"
     ]
    }
   ],
   "source": [
    "even_squares = (x*x for x in range(10) if x % 2 == 0)\n",
    "\n",
    "for x in even_squares:\n",
    "    print(x)"
   ]
  },
  {
   "cell_type": "markdown",
   "id": "506dc66b",
   "metadata": {},
   "source": [
    "### In-line Generator Expressions\n",
    "\n",
    "You can create an iterator and consume it straight away"
   ]
  },
  {
   "cell_type": "code",
   "execution_count": 39,
   "id": "65f0e7f6",
   "metadata": {},
   "outputs": [
    {
     "name": "stdout",
     "output_type": "stream",
     "text": [
      "Bom dia\n",
      "Bom dia\n",
      "Bom dia\n"
     ]
    }
   ],
   "source": [
    "for x in ('Bom dia' for i in range(3)):\n",
    "    print(x)"
   ]
  },
  {
   "cell_type": "code",
   "execution_count": 40,
   "id": "a8659927",
   "metadata": {},
   "outputs": [
    {
     "data": {
      "text/plain": [
       "90"
      ]
     },
     "execution_count": 40,
     "metadata": {},
     "output_type": "execute_result"
    }
   ],
   "source": [
    "sum((x*2 for x in range(10)))"
   ]
  },
  {
   "cell_type": "code",
   "execution_count": 41,
   "id": "4fb3cd81",
   "metadata": {},
   "outputs": [
    {
     "data": {
      "text/plain": [
       "90"
      ]
     },
     "execution_count": 41,
     "metadata": {},
     "output_type": "execute_result"
    }
   ],
   "source": [
    "# if the generator is a single argument to a function we can drop the parenthesis\n",
    "sum(x * 2 for x in range(10))"
   ]
  },
  {
   "cell_type": "markdown",
   "id": "e3f7ce20",
   "metadata": {},
   "source": [
    "### Generalizing generator expressions\n",
    "We can chain expressions and filtering clauses.\n",
    "**Please don’t write deeply nested generator expressions like that. They\n",
    "can be very difficult to maintain in the long run**\n",
    "\n",
    "```Python \n",
    "(expr for x in xs if cond1\n",
    "    for y in ys if cond2\n",
    "    ...\n",
    "    for z in zs if condN)\n",
    "\n",
    "# equivalent\n",
    "for x in xs:\n",
    "    if cond1:\n",
    "        for y in ys:\n",
    "            if cond2:\n",
    "                ...\n",
    "                    for z in zs:\n",
    "                        if condN:\n",
    "                            yield expr\n",
    "\n",
    "```\n",
    "\n",
    "If you need to use nested generators and complex filtering conditions,\n",
    "it’s usually better to factor out sub-generators (so you can name them)\n",
    "and then to chain them together again at the top level."
   ]
  },
  {
   "cell_type": "markdown",
   "id": "b03a3348",
   "metadata": {},
   "source": [
    "___\n",
    "## 6.7 Iterator Chains\n",
    "\n",
    "### Summary\n",
    "* Generators can be **chained together** to form highly efficient and\n",
    "maintainable data processing pipelines.\n",
    "* Chained generators **process each element going through the\n",
    "chain individually**.\n",
    "* **Generator expressions** can be used to write concise **pipeline definitions**, but this can **impact readability**."
   ]
  },
  {
   "cell_type": "code",
   "execution_count": 56,
   "id": "3cbab9a4",
   "metadata": {},
   "outputs": [],
   "source": [
    "def integers():\n",
    "    for i in range(1,9):\n",
    "        yield i"
   ]
  },
  {
   "cell_type": "code",
   "execution_count": 57,
   "id": "61bdc87c",
   "metadata": {},
   "outputs": [
    {
     "data": {
      "text/plain": [
       "[1, 2, 3, 4, 5, 6, 7, 8]"
      ]
     },
     "execution_count": 57,
     "metadata": {},
     "output_type": "execute_result"
    }
   ],
   "source": [
    "chain = integers()\n",
    "list(chain)"
   ]
  },
  {
   "cell_type": "markdown",
   "id": "1b2c1cd4",
   "metadata": {},
   "source": [
    "### Chaining Iterators"
   ]
  },
  {
   "cell_type": "code",
   "execution_count": 58,
   "id": "a239fd82",
   "metadata": {},
   "outputs": [],
   "source": [
    "def squared(seq):\n",
    "    for i in seq:\n",
    "        yield i*i\n",
    "        \n",
    "def negated(seq):\n",
    "    for i in seq:\n",
    "        yield -i"
   ]
  },
  {
   "cell_type": "code",
   "execution_count": 59,
   "id": "62a5cb28",
   "metadata": {},
   "outputs": [
    {
     "data": {
      "text/plain": [
       "[-1, -4, -9, -16, -25, -36, -49, -64]"
      ]
     },
     "execution_count": 59,
     "metadata": {},
     "output_type": "execute_result"
    }
   ],
   "source": [
    "chain = negated(squared(integers()))\n",
    "list(chain)"
   ]
  },
  {
   "cell_type": "markdown",
   "id": "9c42144d",
   "metadata": {},
   "source": [
    "The only downside to using generator expressions is that they can’t\n",
    "be configured with function arguments, and you can’t reuse the same\n",
    "generator expression multiple times in the same processing pipeline."
   ]
  },
  {
   "cell_type": "code",
   "execution_count": 60,
   "id": "aae56871",
   "metadata": {},
   "outputs": [],
   "source": [
    "# equivalent expression\n",
    "integers = range(8)\n",
    "squared = (i * i for i in integers)\n",
    "negated = (-i for i in squared)"
   ]
  },
  {
   "cell_type": "code",
   "execution_count": 61,
   "id": "db18b076",
   "metadata": {},
   "outputs": [
    {
     "data": {
      "text/plain": [
       "<generator object <genexpr> at 0x0000023D5EBDC970>"
      ]
     },
     "execution_count": 61,
     "metadata": {},
     "output_type": "execute_result"
    }
   ],
   "source": [
    "negated"
   ]
  },
  {
   "cell_type": "code",
   "execution_count": 62,
   "id": "eed77da8",
   "metadata": {},
   "outputs": [
    {
     "data": {
      "text/plain": [
       "[0, -1, -4, -9, -16, -25, -36, -49]"
      ]
     },
     "execution_count": 62,
     "metadata": {},
     "output_type": "execute_result"
    }
   ],
   "source": [
    "list(negated)"
   ]
  }
 ],
 "metadata": {
  "kernelspec": {
   "display_name": "Python 3",
   "language": "python",
   "name": "python3"
  },
  "language_info": {
   "codemirror_mode": {
    "name": "ipython",
    "version": 3
   },
   "file_extension": ".py",
   "mimetype": "text/x-python",
   "name": "python",
   "nbconvert_exporter": "python",
   "pygments_lexer": "ipython3",
   "version": "3.8.8"
  }
 },
 "nbformat": 4,
 "nbformat_minor": 5
}
